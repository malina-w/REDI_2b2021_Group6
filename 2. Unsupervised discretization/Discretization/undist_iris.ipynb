{
 "cells": [
  {
   "cell_type": "markdown",
   "id": "e2834d4c",
   "metadata": {},
   "source": [
    "# Unsupervised discretization\n",
    "Dataset: iris\n",
    "\n",
    "Updated at: 28 June 22\n",
    "\n",
    "By: Sam"
   ]
  },
  {
   "cell_type": "markdown",
   "id": "551c0d15",
   "metadata": {},
   "source": [
    "### About Dataset\n",
    "Number of Instances: 150 (50 in each of three classes)\n",
    "Number of Attributes: 4 numeric, predictive attributes and the class\n",
    "Attribute Information:\n",
    "   1. sepal length in cm\n",
    "   2. sepal width in cm\n",
    "   3. petal length in cm\n",
    "   4. petal width in cm\n",
    "   5. class: \n",
    "      -- Iris Setosa\n",
    "      -- Iris Versicolour\n",
    "      -- Iris Virginica\n",
    "\n",
    "Missing Attribute Values: None"
   ]
  },
  {
   "cell_type": "code",
   "execution_count": 1,
   "id": "cdc62db5",
   "metadata": {},
   "outputs": [],
   "source": [
    "# Load library\n",
    "import pandas as pd\n",
    "import numpy as np\n",
    "import time"
   ]
  },
  {
   "cell_type": "code",
   "execution_count": 2,
   "id": "308ff28d",
   "metadata": {},
   "outputs": [],
   "source": [
    "from sklearn.preprocessing import KBinsDiscretizer as kbins # also use for unsupervised"
   ]
  },
  {
   "cell_type": "code",
   "execution_count": 3,
   "id": "24ba1015",
   "metadata": {},
   "outputs": [],
   "source": [
    "from feature_engine.discretisation import EqualFrequencyDiscretiser as efd\n",
    "from feature_engine.discretisation import EqualWidthDiscretiser as ewd"
   ]
  },
  {
   "cell_type": "code",
   "execution_count": 4,
   "id": "baf7bc88",
   "metadata": {},
   "outputs": [],
   "source": [
    "# Load dataset\n",
    "data = pd.read_csv('clean_iris.csv')"
   ]
  },
  {
   "cell_type": "code",
   "execution_count": 5,
   "id": "ff632d99",
   "metadata": {},
   "outputs": [
    {
     "name": "stdout",
     "output_type": "stream",
     "text": [
      "<class 'pandas.core.frame.DataFrame'>\n",
      "RangeIndex: 150 entries, 0 to 149\n",
      "Data columns (total 5 columns):\n",
      " #   Column   Non-Null Count  Dtype  \n",
      "---  ------   --------------  -----  \n",
      " 0   slength  150 non-null    float64\n",
      " 1   swidth   150 non-null    float64\n",
      " 2   plength  150 non-null    float64\n",
      " 3   pwidth   150 non-null    float64\n",
      " 4   label    150 non-null    object \n",
      "dtypes: float64(4), object(1)\n",
      "memory usage: 6.0+ KB\n"
     ]
    }
   ],
   "source": [
    "data.info()"
   ]
  },
  {
   "cell_type": "code",
   "execution_count": 6,
   "id": "ba14deb4",
   "metadata": {},
   "outputs": [],
   "source": [
    "# get list of numeric attributes to discretize\n",
    "num_col = data.select_dtypes(include=np.number).columns\n",
    "num_col = num_col.tolist()"
   ]
  },
  {
   "cell_type": "code",
   "execution_count": 39,
   "id": "ea5248e4",
   "metadata": {},
   "outputs": [],
   "source": [
    "# Encode label (for training and evaluation later, cannot use string title)\n",
    "from sklearn import preprocessing\n",
    "le = preprocessing.LabelEncoder()\n",
    "data['label'] = le.fit_transform(data['label'])"
   ]
  },
  {
   "cell_type": "code",
   "execution_count": 40,
   "id": "e52ed267",
   "metadata": {},
   "outputs": [
    {
     "data": {
      "text/plain": [
       "<bound method DataFrame.info of      slength  swidth  plength  pwidth  label\n",
       "0        5.1     3.5      1.4     0.2      0\n",
       "1        4.9     3.0      1.4     0.2      0\n",
       "2        4.7     3.2      1.3     0.2      0\n",
       "3        4.6     3.1      1.5     0.2      0\n",
       "4        5.0     3.6      1.4     0.2      0\n",
       "..       ...     ...      ...     ...    ...\n",
       "145      6.7     3.0      5.2     2.3      2\n",
       "146      6.3     2.5      5.0     1.9      2\n",
       "147      6.5     3.0      5.2     2.0      2\n",
       "148      6.2     3.4      5.4     2.3      2\n",
       "149      5.9     3.0      5.1     1.8      2\n",
       "\n",
       "[150 rows x 5 columns]>"
      ]
     },
     "execution_count": 40,
     "metadata": {},
     "output_type": "execute_result"
    }
   ],
   "source": [
    "data.info"
   ]
  },
  {
   "cell_type": "markdown",
   "id": "6d8c5079",
   "metadata": {},
   "source": [
    "## Equal Width Discretization"
   ]
  },
  {
   "cell_type": "code",
   "execution_count": 41,
   "id": "ad79f6ae",
   "metadata": {},
   "outputs": [],
   "source": [
    "# Define function: Inputs: dataset, number of parameters\n",
    "\n",
    "def ewd_disc(data, k):\n",
    "    ## set up the discretisation transformer\n",
    "    ewd_disc = ewd(bins=k, variables=num_col, return_boundaries=False)\n",
    "    '''\n",
    "    Parameters\n",
    "    ----------\n",
    "    bins : int, default=10\n",
    "        Desired number of equal width intervals / bins.\n",
    "\n",
    "    variables : list\n",
    "        The list of numerical variables to transform. If None, the\n",
    "        discretiser will automatically select all numerical type variables.\n",
    "\n",
    "    return_object : bool, default=False\n",
    "        Whether the numbers in the discrete variable should be returned as\n",
    "        numeric or as object. The decision should be made by the user based on\n",
    "        whether they would like to proceed the engineering of the variable as\n",
    "        if it was numerical or categorical.\n",
    "\n",
    "    return_boundaries: bool, default=False\n",
    "        whether the output should be the interval boundaries. If True, it returns\n",
    "        the interval boundaries. If False, it returns integers.\n",
    "    '''\n",
    "    ## fit the transformer\n",
    "    ewd_disc.fit(data)\n",
    "    ## transform the data\n",
    "    data_ewd = ewd_disc.transform(data)\n",
    "    ## binner_dict contains the boundaries of the different bins: \n",
    "    # stores the interval limits identified for each variable\n",
    "    ewd_disc.binner_dict_\n",
    "    return data_ewd  # return dataset after discretization"
   ]
  },
  {
   "cell_type": "markdown",
   "id": "67987988",
   "metadata": {},
   "source": [
    "### EWD - Scenario 1: k = 4"
   ]
  },
  {
   "cell_type": "code",
   "execution_count": 42,
   "id": "6621c40e",
   "metadata": {},
   "outputs": [
    {
     "name": "stdout",
     "output_type": "stream",
     "text": [
      "Discretization time, EWD, k =  4 : 0.016412019729614258\n"
     ]
    }
   ],
   "source": [
    "# Perform discretization\n",
    "k = 4\n",
    "start = time.time() # Starting  time\n",
    "data_ewd1 = ewd_disc(data, k)\n",
    "end = time.time()\n",
    "ewd_t = end - start\n",
    "print(\"Discretization time, EWD, k = \", k,\":\",ewd_t) # Total time execution"
   ]
  },
  {
   "cell_type": "code",
   "execution_count": 43,
   "id": "4a3a482b",
   "metadata": {},
   "outputs": [
    {
     "data": {
      "text/html": [
       "<div>\n",
       "<style scoped>\n",
       "    .dataframe tbody tr th:only-of-type {\n",
       "        vertical-align: middle;\n",
       "    }\n",
       "\n",
       "    .dataframe tbody tr th {\n",
       "        vertical-align: top;\n",
       "    }\n",
       "\n",
       "    .dataframe thead th {\n",
       "        text-align: right;\n",
       "    }\n",
       "</style>\n",
       "<table border=\"1\" class=\"dataframe\">\n",
       "  <thead>\n",
       "    <tr style=\"text-align: right;\">\n",
       "      <th></th>\n",
       "      <th>slength</th>\n",
       "      <th>swidth</th>\n",
       "      <th>plength</th>\n",
       "      <th>pwidth</th>\n",
       "      <th>label</th>\n",
       "    </tr>\n",
       "  </thead>\n",
       "  <tbody>\n",
       "    <tr>\n",
       "      <th>0</th>\n",
       "      <td>0</td>\n",
       "      <td>2</td>\n",
       "      <td>0</td>\n",
       "      <td>0</td>\n",
       "      <td>0</td>\n",
       "    </tr>\n",
       "    <tr>\n",
       "      <th>1</th>\n",
       "      <td>0</td>\n",
       "      <td>1</td>\n",
       "      <td>0</td>\n",
       "      <td>0</td>\n",
       "      <td>0</td>\n",
       "    </tr>\n",
       "    <tr>\n",
       "      <th>2</th>\n",
       "      <td>0</td>\n",
       "      <td>1</td>\n",
       "      <td>0</td>\n",
       "      <td>0</td>\n",
       "      <td>0</td>\n",
       "    </tr>\n",
       "    <tr>\n",
       "      <th>3</th>\n",
       "      <td>0</td>\n",
       "      <td>1</td>\n",
       "      <td>0</td>\n",
       "      <td>0</td>\n",
       "      <td>0</td>\n",
       "    </tr>\n",
       "    <tr>\n",
       "      <th>4</th>\n",
       "      <td>0</td>\n",
       "      <td>2</td>\n",
       "      <td>0</td>\n",
       "      <td>0</td>\n",
       "      <td>0</td>\n",
       "    </tr>\n",
       "  </tbody>\n",
       "</table>\n",
       "</div>"
      ],
      "text/plain": [
       "   slength  swidth  plength  pwidth  label\n",
       "0        0       2        0       0      0\n",
       "1        0       1        0       0      0\n",
       "2        0       1        0       0      0\n",
       "3        0       1        0       0      0\n",
       "4        0       2        0       0      0"
      ]
     },
     "execution_count": 43,
     "metadata": {},
     "output_type": "execute_result"
    }
   ],
   "source": [
    "# OUTPUT:\n",
    "data_ewd1.head()"
   ]
  },
  {
   "cell_type": "code",
   "execution_count": 44,
   "id": "6f0807bf",
   "metadata": {},
   "outputs": [
    {
     "name": "stdout",
     "output_type": "stream",
     "text": [
      "slength\n",
      "slength\n",
      "0    45\n",
      "1    50\n",
      "2    43\n",
      "3    12\n",
      "Name: slength, dtype: int64\n",
      "swidth\n",
      "swidth\n",
      "0    24\n",
      "1    84\n",
      "2    36\n",
      "3     6\n",
      "Name: swidth, dtype: int64\n",
      "plength\n",
      "plength\n",
      "0    50\n",
      "1    11\n",
      "2    61\n",
      "3    28\n",
      "Name: plength, dtype: int64\n",
      "pwidth\n",
      "pwidth\n",
      "0    50\n",
      "1    28\n",
      "2    43\n",
      "3    29\n",
      "Name: pwidth, dtype: int64\n"
     ]
    }
   ],
   "source": [
    "## OUTPUT: Check number of instance in each interval in the data_ewd\n",
    "# With equal width discretisation, each bin does not necessarily \n",
    "# contain the same number of observations.\n",
    "for col in num_col:\n",
    "    print(col)\n",
    "    print(data_ewd1.groupby(col)[col].count())"
   ]
  },
  {
   "cell_type": "markdown",
   "id": "7a9432c4",
   "metadata": {},
   "source": [
    "### EWD - Scenario 2: k = 7"
   ]
  },
  {
   "cell_type": "code",
   "execution_count": 45,
   "id": "654ef5af",
   "metadata": {},
   "outputs": [
    {
     "name": "stdout",
     "output_type": "stream",
     "text": [
      "Discretization time, EWD, k =  7 : 0.01569199562072754\n"
     ]
    }
   ],
   "source": [
    "# Perform discretization\n",
    "k = 7\n",
    "start = time.time() # Starting  time\n",
    "data_ewd2 = ewd_disc(data, k)\n",
    "end = time.time()\n",
    "ewd_t = end - start\n",
    "print(\"Discretization time, EWD, k = \", k,\":\",ewd_t) # Total time execution"
   ]
  },
  {
   "cell_type": "code",
   "execution_count": 46,
   "id": "b17a42a4",
   "metadata": {},
   "outputs": [
    {
     "data": {
      "text/html": [
       "<div>\n",
       "<style scoped>\n",
       "    .dataframe tbody tr th:only-of-type {\n",
       "        vertical-align: middle;\n",
       "    }\n",
       "\n",
       "    .dataframe tbody tr th {\n",
       "        vertical-align: top;\n",
       "    }\n",
       "\n",
       "    .dataframe thead th {\n",
       "        text-align: right;\n",
       "    }\n",
       "</style>\n",
       "<table border=\"1\" class=\"dataframe\">\n",
       "  <thead>\n",
       "    <tr style=\"text-align: right;\">\n",
       "      <th></th>\n",
       "      <th>slength</th>\n",
       "      <th>swidth</th>\n",
       "      <th>plength</th>\n",
       "      <th>pwidth</th>\n",
       "      <th>label</th>\n",
       "    </tr>\n",
       "  </thead>\n",
       "  <tbody>\n",
       "    <tr>\n",
       "      <th>0</th>\n",
       "      <td>1</td>\n",
       "      <td>4</td>\n",
       "      <td>0</td>\n",
       "      <td>0</td>\n",
       "      <td>0</td>\n",
       "    </tr>\n",
       "    <tr>\n",
       "      <th>1</th>\n",
       "      <td>1</td>\n",
       "      <td>2</td>\n",
       "      <td>0</td>\n",
       "      <td>0</td>\n",
       "      <td>0</td>\n",
       "    </tr>\n",
       "    <tr>\n",
       "      <th>2</th>\n",
       "      <td>0</td>\n",
       "      <td>3</td>\n",
       "      <td>0</td>\n",
       "      <td>0</td>\n",
       "      <td>0</td>\n",
       "    </tr>\n",
       "    <tr>\n",
       "      <th>3</th>\n",
       "      <td>0</td>\n",
       "      <td>3</td>\n",
       "      <td>0</td>\n",
       "      <td>0</td>\n",
       "      <td>0</td>\n",
       "    </tr>\n",
       "    <tr>\n",
       "      <th>4</th>\n",
       "      <td>1</td>\n",
       "      <td>4</td>\n",
       "      <td>0</td>\n",
       "      <td>0</td>\n",
       "      <td>0</td>\n",
       "    </tr>\n",
       "  </tbody>\n",
       "</table>\n",
       "</div>"
      ],
      "text/plain": [
       "   slength  swidth  plength  pwidth  label\n",
       "0        1       4        0       0      0\n",
       "1        1       2        0       0      0\n",
       "2        0       3        0       0      0\n",
       "3        0       3        0       0      0\n",
       "4        1       4        0       0      0"
      ]
     },
     "execution_count": 46,
     "metadata": {},
     "output_type": "execute_result"
    }
   ],
   "source": [
    "# OUTPUT:\n",
    "data_ewd2.head()"
   ]
  },
  {
   "cell_type": "code",
   "execution_count": 47,
   "id": "2273e115",
   "metadata": {},
   "outputs": [
    {
     "name": "stdout",
     "output_type": "stream",
     "text": [
      "slength\n",
      "slength\n",
      "0    16\n",
      "1    30\n",
      "2    34\n",
      "3    28\n",
      "4    25\n",
      "5    10\n",
      "6     7\n",
      "Name: slength, dtype: int64\n",
      "swidth\n",
      "swidth\n",
      "0     8\n",
      "1    16\n",
      "2    59\n",
      "3    31\n",
      "4    24\n",
      "5     9\n",
      "6     3\n",
      "Name: swidth, dtype: int64\n",
      "plength\n",
      "plength\n",
      "0    48\n",
      "1     2\n",
      "2     5\n",
      "3    20\n",
      "4    43\n",
      "5    23\n",
      "6     9\n",
      "Name: plength, dtype: int64\n",
      "pwidth\n",
      "pwidth\n",
      "0    48\n",
      "1     2\n",
      "2    10\n",
      "3    26\n",
      "4    30\n",
      "5    17\n",
      "6    17\n",
      "Name: pwidth, dtype: int64\n"
     ]
    }
   ],
   "source": [
    "## OUTPUT: Check number of instance in each interval in the data_ewd\n",
    "# With equal width discretisation, each bin does not necessarily \n",
    "# contain the same number of observations.\n",
    "for col in num_col:\n",
    "    print(col)\n",
    "    print(data_ewd2.groupby(col)[col].count())"
   ]
  },
  {
   "cell_type": "markdown",
   "id": "864339af",
   "metadata": {},
   "source": [
    "### EWD - Scenario 3: k = 10"
   ]
  },
  {
   "cell_type": "code",
   "execution_count": 48,
   "id": "cbbd1753",
   "metadata": {},
   "outputs": [
    {
     "name": "stdout",
     "output_type": "stream",
     "text": [
      "Discretization time, EWD, k =  10 : 0.016379833221435547\n"
     ]
    }
   ],
   "source": [
    "# Perform discretization\n",
    "k = 10\n",
    "start = time.time() # Starting time\n",
    "data_ewd3 = ewd_disc(data, k)\n",
    "end = time.time()\n",
    "ewd_t = end - start\n",
    "print(\"Discretization time, EWD, k = \", k,\":\",ewd_t) # Total time execution"
   ]
  },
  {
   "cell_type": "code",
   "execution_count": 49,
   "id": "addda05a",
   "metadata": {},
   "outputs": [
    {
     "data": {
      "text/html": [
       "<div>\n",
       "<style scoped>\n",
       "    .dataframe tbody tr th:only-of-type {\n",
       "        vertical-align: middle;\n",
       "    }\n",
       "\n",
       "    .dataframe tbody tr th {\n",
       "        vertical-align: top;\n",
       "    }\n",
       "\n",
       "    .dataframe thead th {\n",
       "        text-align: right;\n",
       "    }\n",
       "</style>\n",
       "<table border=\"1\" class=\"dataframe\">\n",
       "  <thead>\n",
       "    <tr style=\"text-align: right;\">\n",
       "      <th></th>\n",
       "      <th>slength</th>\n",
       "      <th>swidth</th>\n",
       "      <th>plength</th>\n",
       "      <th>pwidth</th>\n",
       "      <th>label</th>\n",
       "    </tr>\n",
       "  </thead>\n",
       "  <tbody>\n",
       "    <tr>\n",
       "      <th>0</th>\n",
       "      <td>2</td>\n",
       "      <td>6</td>\n",
       "      <td>0</td>\n",
       "      <td>0</td>\n",
       "      <td>0</td>\n",
       "    </tr>\n",
       "    <tr>\n",
       "      <th>1</th>\n",
       "      <td>1</td>\n",
       "      <td>4</td>\n",
       "      <td>0</td>\n",
       "      <td>0</td>\n",
       "      <td>0</td>\n",
       "    </tr>\n",
       "    <tr>\n",
       "      <th>2</th>\n",
       "      <td>1</td>\n",
       "      <td>4</td>\n",
       "      <td>0</td>\n",
       "      <td>0</td>\n",
       "      <td>0</td>\n",
       "    </tr>\n",
       "    <tr>\n",
       "      <th>3</th>\n",
       "      <td>0</td>\n",
       "      <td>4</td>\n",
       "      <td>0</td>\n",
       "      <td>0</td>\n",
       "      <td>0</td>\n",
       "    </tr>\n",
       "    <tr>\n",
       "      <th>4</th>\n",
       "      <td>1</td>\n",
       "      <td>6</td>\n",
       "      <td>0</td>\n",
       "      <td>0</td>\n",
       "      <td>0</td>\n",
       "    </tr>\n",
       "  </tbody>\n",
       "</table>\n",
       "</div>"
      ],
      "text/plain": [
       "   slength  swidth  plength  pwidth  label\n",
       "0        2       6        0       0      0\n",
       "1        1       4        0       0      0\n",
       "2        1       4        0       0      0\n",
       "3        0       4        0       0      0\n",
       "4        1       6        0       0      0"
      ]
     },
     "execution_count": 49,
     "metadata": {},
     "output_type": "execute_result"
    }
   ],
   "source": [
    "# OUTPUT:\n",
    "data_ewd3.head()"
   ]
  },
  {
   "cell_type": "code",
   "execution_count": 50,
   "id": "8c9e0a31",
   "metadata": {},
   "outputs": [
    {
     "name": "stdout",
     "output_type": "stream",
     "text": [
      "slength\n",
      "slength\n",
      "0     9\n",
      "1    23\n",
      "2    14\n",
      "3    27\n",
      "4    22\n",
      "5    20\n",
      "6    18\n",
      "7     6\n",
      "8     5\n",
      "9     6\n",
      "Name: slength, dtype: int64\n",
      "swidth\n",
      "swidth\n",
      "0     4\n",
      "1     7\n",
      "2    22\n",
      "3    24\n",
      "4    51\n",
      "5    18\n",
      "6     9\n",
      "7    11\n",
      "8     2\n",
      "9     2\n",
      "Name: swidth, dtype: int64\n",
      "plength\n",
      "plength\n",
      "0    37\n",
      "1    13\n",
      "3     3\n",
      "4     8\n",
      "5    26\n",
      "6    29\n",
      "7    18\n",
      "8    11\n",
      "9     5\n",
      "Name: plength, dtype: int64\n",
      "pwidth\n",
      "pwidth\n",
      "0    41\n",
      "1     8\n",
      "2     1\n",
      "3     7\n",
      "4    21\n",
      "5    20\n",
      "6     6\n",
      "7    23\n",
      "8     9\n",
      "9    14\n",
      "Name: pwidth, dtype: int64\n"
     ]
    }
   ],
   "source": [
    "## OUTPUT: Check number of instance in each interval in the data_ewd\n",
    "# With equal width discretisation, each bin does not necessarily \n",
    "# contain the same number of observations.\n",
    "for col in num_col:\n",
    "    print(col)\n",
    "    print(data_ewd3.groupby(col)[col].count())"
   ]
  },
  {
   "cell_type": "markdown",
   "id": "8762ac47",
   "metadata": {},
   "source": [
    "## Equal Frequency Discretization - EFD\n",
    "- Reference: https://nbviewer.org/github/feature-engine/feature-engine-examples/blob/main/discretisation/EqualFrequencyDiscretiser.ipynb\n",
    "- Parameter:\n",
    "- q : int, default=10\n",
    "    Desired number of equal frequency intervals / bins. In other words the\n",
    "    number of quantiles in which the variables should be divided.\n",
    "\n",
    "- variables : list\n",
    "    The list of numerical variables that will be discretised. If None, the\n",
    "    EqualFrequencyDiscretiser() will select all numerical variables.\n",
    "\n",
    "- return_object : bool, default=False\n",
    "    Whether the numbers in the discrete variable should be returned as\n",
    "    numeric or as object. The decision is made by the user based on\n",
    "    whether they would like to proceed the engineering of the variable as\n",
    "    if it was numerical or categorical.\n",
    "\n",
    "- return_boundaries: bool, default=False\n",
    "    whether the output should be the interval boundaries. If True, it returns\n",
    "    the interval boundaries. If False, it returns integers."
   ]
  },
  {
   "cell_type": "code",
   "execution_count": 51,
   "id": "e8234fd8",
   "metadata": {},
   "outputs": [],
   "source": [
    "def efd_disc(data, k):\n",
    "    ## set up the discretisation transformer\n",
    "    efd_disc = efd(q=k, variables=num_col)\n",
    "    ## fit the transformer\n",
    "    efd_disc.fit(data)\n",
    "    ## transform the data\n",
    "    data_efd = efd_disc.transform(data)\n",
    "    ## binner_dict_ stores the interval limits identified for each variable.\n",
    "    efd_disc.binner_dict_\n",
    "    return data_efd"
   ]
  },
  {
   "cell_type": "markdown",
   "id": "7e983651",
   "metadata": {},
   "source": [
    "### Define function efd_disc, inputs include dataset, number of intervals (k)"
   ]
  },
  {
   "cell_type": "markdown",
   "id": "ee4de6e6",
   "metadata": {},
   "source": [
    "### EFD - Scenario 1: k = 4"
   ]
  },
  {
   "cell_type": "code",
   "execution_count": 52,
   "id": "506ec933",
   "metadata": {},
   "outputs": [
    {
     "name": "stdout",
     "output_type": "stream",
     "text": [
      "Discretization time, EFD, k =  4 : 0.016688108444213867\n"
     ]
    }
   ],
   "source": [
    "# Perform discretization\n",
    "k = 4\n",
    "start = time.time() # Starting time\n",
    "data_efd1 = efd_disc(data, k)\n",
    "end = time.time()\n",
    "efd_t = end - start\n",
    "print(\"Discretization time, EFD, k = \", k,\":\", efd_t) # Total time execution"
   ]
  },
  {
   "cell_type": "code",
   "execution_count": 53,
   "id": "7469322d",
   "metadata": {},
   "outputs": [
    {
     "name": "stdout",
     "output_type": "stream",
     "text": [
      "slength\n",
      "slength\n",
      "0    41\n",
      "1    39\n",
      "2    35\n",
      "3    35\n",
      "Name: slength, dtype: int64\n",
      "swidth\n",
      "swidth\n",
      "0    47\n",
      "1    36\n",
      "2    31\n",
      "3    36\n",
      "Name: swidth, dtype: int64\n",
      "plength\n",
      "plength\n",
      "0    44\n",
      "1    31\n",
      "2    41\n",
      "3    34\n",
      "Name: plength, dtype: int64\n",
      "pwidth\n",
      "pwidth\n",
      "0    41\n",
      "1    37\n",
      "2    38\n",
      "3    34\n",
      "Name: pwidth, dtype: int64\n"
     ]
    }
   ],
   "source": [
    "## OUTPUT: Check number of instance in each interval \n",
    "for col in num_col:\n",
    "    print(col)\n",
    "    print(data_efd1.groupby(col)[col].count())"
   ]
  },
  {
   "cell_type": "markdown",
   "id": "67741352",
   "metadata": {},
   "source": [
    "### EFD - Scenario 2: k = 7"
   ]
  },
  {
   "cell_type": "code",
   "execution_count": 54,
   "id": "356e5bb9",
   "metadata": {},
   "outputs": [
    {
     "name": "stdout",
     "output_type": "stream",
     "text": [
      "Discretization time, EFD, k =  7 : 0.0239412784576416\n"
     ]
    }
   ],
   "source": [
    "# Perform discretization\n",
    "k = 7\n",
    "start = time.time() # Starting time\n",
    "data_efd2 = efd_disc(data, k)\n",
    "end = time.time()\n",
    "efd_t = end - start\n",
    "print(\"Discretization time, EFD, k = \", k,\":\",efd_t) # Total time execution"
   ]
  },
  {
   "cell_type": "code",
   "execution_count": 55,
   "id": "1abe9cc5",
   "metadata": {},
   "outputs": [
    {
     "name": "stdout",
     "output_type": "stream",
     "text": [
      "<class 'pandas.core.frame.DataFrame'>\n",
      "RangeIndex: 150 entries, 0 to 149\n",
      "Data columns (total 5 columns):\n",
      " #   Column   Non-Null Count  Dtype\n",
      "---  ------   --------------  -----\n",
      " 0   slength  150 non-null    int64\n",
      " 1   swidth   150 non-null    int64\n",
      " 2   plength  150 non-null    int64\n",
      " 3   pwidth   150 non-null    int64\n",
      " 4   label    150 non-null    int64\n",
      "dtypes: int64(5)\n",
      "memory usage: 6.0 KB\n",
      "slength\n",
      "slength\n",
      "0    22\n",
      "1    23\n",
      "2    20\n",
      "3    24\n",
      "4    19\n",
      "5    22\n",
      "6    20\n",
      "Name: slength, dtype: int64\n",
      "swidth\n",
      "swidth\n",
      "0    24\n",
      "1    23\n",
      "2    36\n",
      "3    12\n",
      "4    13\n",
      "5    24\n",
      "6    18\n",
      "Name: swidth, dtype: int64\n",
      "plength\n",
      "plength\n",
      "0    23\n",
      "1    21\n",
      "2    22\n",
      "3    21\n",
      "4    21\n",
      "5    23\n",
      "6    19\n",
      "Name: plength, dtype: int64\n",
      "pwidth\n",
      "pwidth\n",
      "0    34\n",
      "1    14\n",
      "2    17\n",
      "3    21\n",
      "4    30\n",
      "5    17\n",
      "6    17\n",
      "Name: pwidth, dtype: int64\n"
     ]
    }
   ],
   "source": [
    "## OUTPUT\n",
    "data_efd2.info()\n",
    "## OUTPUT: Check number of instance in each interval in the data_efd\n",
    "for col in num_col:\n",
    "    print(col)\n",
    "    print(data_efd2.groupby(col)[col].count())"
   ]
  },
  {
   "cell_type": "markdown",
   "id": "7f4d1ba7",
   "metadata": {},
   "source": [
    "### Scenario 3: k = 10"
   ]
  },
  {
   "cell_type": "code",
   "execution_count": 56,
   "id": "ef6abd9b",
   "metadata": {},
   "outputs": [
    {
     "name": "stdout",
     "output_type": "stream",
     "text": [
      "Discretization time, EFD, k =  10 : 0.01904010772705078\n"
     ]
    }
   ],
   "source": [
    "# Perform discretization\n",
    "k = 10\n",
    "start = time.time() # Starting time\n",
    "data_efd3 = efd_disc(data, k)\n",
    "end = time.time()\n",
    "efd_t = end - start\n",
    "print(\"Discretization time, EFD, k = \", k,\":\",efd_t) # Total time execution"
   ]
  },
  {
   "cell_type": "code",
   "execution_count": 57,
   "id": "f5a73453",
   "metadata": {},
   "outputs": [
    {
     "name": "stdout",
     "output_type": "stream",
     "text": [
      "<class 'pandas.core.frame.DataFrame'>\n",
      "RangeIndex: 150 entries, 0 to 149\n",
      "Data columns (total 5 columns):\n",
      " #   Column   Non-Null Count  Dtype\n",
      "---  ------   --------------  -----\n",
      " 0   slength  150 non-null    int64\n",
      " 1   swidth   150 non-null    int64\n",
      " 2   plength  150 non-null    int64\n",
      " 3   pwidth   150 non-null    int64\n",
      " 4   label    150 non-null    int64\n",
      "dtypes: int64(5)\n",
      "memory usage: 6.0 KB\n",
      "slength\n",
      "slength\n",
      "0    16\n",
      "1    16\n",
      "2    13\n",
      "3    20\n",
      "4    15\n",
      "5    15\n",
      "6    13\n",
      "7    12\n",
      "8    17\n",
      "9    13\n",
      "Name: slength, dtype: int64\n",
      "swidth\n",
      "swidth\n",
      "0    19\n",
      "1    14\n",
      "2    14\n",
      "3    36\n",
      "4    12\n",
      "5    13\n",
      "6    18\n",
      "7     9\n",
      "8    15\n",
      "Name: swidth, dtype: int64\n",
      "plength\n",
      "plength\n",
      "0    23\n",
      "1    14\n",
      "2    11\n",
      "3    13\n",
      "4    14\n",
      "5    15\n",
      "6    18\n",
      "7    12\n",
      "8    17\n",
      "9    13\n",
      "Name: plength, dtype: int64\n",
      "pwidth\n",
      "pwidth\n",
      "0    34\n",
      "1    14\n",
      "2    12\n",
      "3    18\n",
      "4    20\n",
      "5    18\n",
      "6     5\n",
      "7    15\n",
      "8    14\n",
      "Name: pwidth, dtype: int64\n"
     ]
    }
   ],
   "source": [
    "## OUTPUT\n",
    "data_efd3.info()\n",
    "## OUTPUT: Check number of instance in each interval in the data_efd\n",
    "for col in num_col:\n",
    "    print(col)\n",
    "    print(data_efd3.groupby(col)[col].count())"
   ]
  },
  {
   "cell_type": "markdown",
   "id": "c450e48c",
   "metadata": {},
   "source": [
    "## Fixed Frequency Discretization - FFD"
   ]
  },
  {
   "cell_type": "markdown",
   "id": "b8b5f71a",
   "metadata": {},
   "source": [
    "### Define function ffd_disc: modify input of function efd\n",
    "Input include dataset, interval frequency (m)"
   ]
  },
  {
   "cell_type": "code",
   "execution_count": 58,
   "id": "9912db8b",
   "metadata": {},
   "outputs": [],
   "source": [
    "def ffd_disc(data, m): # \n",
    "    n = len(data)\n",
    "    ## set up the discretisation transformer\n",
    "    ffd_disc = efd(q=round(n/m), variables=num_col) # number of bins = n/m\n",
    "    ## fit the transformer\n",
    "    ffd_disc.fit(data)\n",
    "    ## transform the data\n",
    "    data_ffd = ffd_disc.transform(data)\n",
    "    ## binner_dict_ stores the interval limits identified for each variable.\n",
    "    ffd_disc.binner_dict_\n",
    "    return data_ffd"
   ]
  },
  {
   "cell_type": "markdown",
   "id": "642aaa9c",
   "metadata": {},
   "source": [
    "### FFD - Scenario 1: m = 10"
   ]
  },
  {
   "cell_type": "code",
   "execution_count": 59,
   "id": "80238a31",
   "metadata": {},
   "outputs": [
    {
     "name": "stdout",
     "output_type": "stream",
     "text": [
      "Discretization time, FFD,  m =  10 : 0.019372224807739258\n"
     ]
    }
   ],
   "source": [
    "# Perform discretization\n",
    "m = 10\n",
    "start = time.time() # Starting time\n",
    "data_ffd1 = ffd_disc(data, m)\n",
    "end = time.time()\n",
    "ffd_t = end - start\n",
    "print(\"Discretization time, FFD,  m = \", m, \":\", ffd_t) # Total time execution"
   ]
  },
  {
   "cell_type": "code",
   "execution_count": 60,
   "id": "b5a7314c",
   "metadata": {},
   "outputs": [
    {
     "name": "stdout",
     "output_type": "stream",
     "text": [
      "<class 'pandas.core.frame.DataFrame'>\n",
      "RangeIndex: 150 entries, 0 to 149\n",
      "Data columns (total 5 columns):\n",
      " #   Column   Non-Null Count  Dtype\n",
      "---  ------   --------------  -----\n",
      " 0   slength  150 non-null    int64\n",
      " 1   swidth   150 non-null    int64\n",
      " 2   plength  150 non-null    int64\n",
      " 3   pwidth   150 non-null    int64\n",
      " 4   label    150 non-null    int64\n",
      "dtypes: int64(5)\n",
      "memory usage: 6.0 KB\n",
      "slength\n",
      "slength\n",
      "0     11\n",
      "1     11\n",
      "2     10\n",
      "3      9\n",
      "4     11\n",
      "5     13\n",
      "6      8\n",
      "7      7\n",
      "8     15\n",
      "9     13\n",
      "10     7\n",
      "11     5\n",
      "12    10\n",
      "13    12\n",
      "14     8\n",
      "Name: slength, dtype: int64\n",
      "swidth\n",
      "swidth\n",
      "0     11\n",
      "1     13\n",
      "2      9\n",
      "3     14\n",
      "4     10\n",
      "5     26\n",
      "6     12\n",
      "7     13\n",
      "8      6\n",
      "9     12\n",
      "10     6\n",
      "11    12\n",
      "12     6\n",
      "Name: swidth, dtype: int64\n",
      "plength\n",
      "plength\n",
      "0     11\n",
      "1     12\n",
      "2     14\n",
      "3      7\n",
      "4      6\n",
      "5     11\n",
      "6     12\n",
      "7     14\n",
      "8      3\n",
      "9     14\n",
      "10    12\n",
      "11     4\n",
      "12    11\n",
      "13    10\n",
      "14     9\n",
      "Name: plength, dtype: int64\n",
      "pwidth\n",
      "pwidth\n",
      "0     34\n",
      "1      7\n",
      "2      9\n",
      "3     10\n",
      "4     18\n",
      "5      8\n",
      "6     12\n",
      "7      4\n",
      "8     14\n",
      "9      5\n",
      "10    12\n",
      "11    11\n",
      "12     6\n",
      "Name: pwidth, dtype: int64\n"
     ]
    }
   ],
   "source": [
    "## OUTPUT\n",
    "data_ffd1.info()\n",
    "## OUTPUT: Check number of instance in each interval\n",
    "for col in num_col:\n",
    "    print(col)\n",
    "    print(data_ffd1.groupby(col)[col].count())"
   ]
  },
  {
   "cell_type": "markdown",
   "id": "b4935f0a",
   "metadata": {},
   "source": [
    "### FFD - Scenario 1: m = 30"
   ]
  },
  {
   "cell_type": "code",
   "execution_count": 61,
   "id": "aa4ed5a4",
   "metadata": {},
   "outputs": [
    {
     "name": "stdout",
     "output_type": "stream",
     "text": [
      "Discretization time, EFD, m =  30 : 0.017087936401367188\n"
     ]
    }
   ],
   "source": [
    "# Perform discretization\n",
    "m = 30\n",
    "start = time.time() # Starting time\n",
    "data_ffd2 = ffd_disc(data, m)\n",
    "end = time.time()\n",
    "ffd_t = end - start\n",
    "print(\"Discretization time, EFD, m = \", m, \":\", ffd_t) # Total time execution"
   ]
  },
  {
   "cell_type": "code",
   "execution_count": 62,
   "id": "a673581e",
   "metadata": {},
   "outputs": [
    {
     "name": "stdout",
     "output_type": "stream",
     "text": [
      "<class 'pandas.core.frame.DataFrame'>\n",
      "RangeIndex: 150 entries, 0 to 149\n",
      "Data columns (total 5 columns):\n",
      " #   Column   Non-Null Count  Dtype\n",
      "---  ------   --------------  -----\n",
      " 0   slength  150 non-null    int64\n",
      " 1   swidth   150 non-null    int64\n",
      " 2   plength  150 non-null    int64\n",
      " 3   pwidth   150 non-null    int64\n",
      " 4   label    150 non-null    int64\n",
      "dtypes: int64(5)\n",
      "memory usage: 6.0 KB\n",
      "slength\n",
      "slength\n",
      "0    32\n",
      "1    33\n",
      "2    30\n",
      "3    25\n",
      "4    30\n",
      "Name: slength, dtype: int64\n",
      "swidth\n",
      "swidth\n",
      "0    33\n",
      "1    50\n",
      "2    12\n",
      "3    31\n",
      "4    24\n",
      "Name: swidth, dtype: int64\n",
      "plength\n",
      "plength\n",
      "0    37\n",
      "1    24\n",
      "2    29\n",
      "3    30\n",
      "4    30\n",
      "Name: plength, dtype: int64\n",
      "pwidth\n",
      "pwidth\n",
      "0    34\n",
      "1    26\n",
      "2    38\n",
      "3    23\n",
      "4    29\n",
      "Name: pwidth, dtype: int64\n"
     ]
    }
   ],
   "source": [
    "## OUTPUT\n",
    "data_ffd2.info()\n",
    "## OUTPUT: Check number of instance in each interval\n",
    "for col in num_col:\n",
    "    print(col)\n",
    "    print(data_ffd2.groupby(col)[col].count())"
   ]
  },
  {
   "cell_type": "markdown",
   "id": "3609482c",
   "metadata": {},
   "source": [
    "### FFD - Scenario 3: m = 60"
   ]
  },
  {
   "cell_type": "code",
   "execution_count": 63,
   "id": "3feb4760",
   "metadata": {},
   "outputs": [
    {
     "name": "stdout",
     "output_type": "stream",
     "text": [
      "Discretization time, FFD, m =  60 : 0.01614212989807129\n"
     ]
    }
   ],
   "source": [
    "# Perform discretization\n",
    "m = 60\n",
    "start = time.time() # Starting time\n",
    "data_ffd3 = ffd_disc(data, m)\n",
    "end = time.time()\n",
    "ffd_t = end - start\n",
    "print(\"Discretization time, FFD, m = \", m, \":\", ffd_t) # Total time execution"
   ]
  },
  {
   "cell_type": "code",
   "execution_count": 64,
   "id": "f7b6dd92",
   "metadata": {},
   "outputs": [
    {
     "name": "stdout",
     "output_type": "stream",
     "text": [
      "<class 'pandas.core.frame.DataFrame'>\n",
      "RangeIndex: 150 entries, 0 to 149\n",
      "Data columns (total 5 columns):\n",
      " #   Column   Non-Null Count  Dtype\n",
      "---  ------   --------------  -----\n",
      " 0   slength  150 non-null    int64\n",
      " 1   swidth   150 non-null    int64\n",
      " 2   plength  150 non-null    int64\n",
      " 3   pwidth   150 non-null    int64\n",
      " 4   label    150 non-null    int64\n",
      "dtypes: int64(5)\n",
      "memory usage: 6.0 KB\n",
      "slength\n",
      "slength\n",
      "0    80\n",
      "1    70\n",
      "Name: slength, dtype: int64\n",
      "swidth\n",
      "swidth\n",
      "0    83\n",
      "1    67\n",
      "Name: swidth, dtype: int64\n",
      "plength\n",
      "plength\n",
      "0    75\n",
      "1    75\n",
      "Name: plength, dtype: int64\n",
      "pwidth\n",
      "pwidth\n",
      "0    78\n",
      "1    72\n",
      "Name: pwidth, dtype: int64\n"
     ]
    }
   ],
   "source": [
    "## OUTPUT\n",
    "data_ffd3.info()\n",
    "## OUTPUT: Check number of instance in each interval\n",
    "for col in num_col:\n",
    "    print(col)\n",
    "    print(data_ffd3.groupby(col)[col].count())"
   ]
  },
  {
   "cell_type": "markdown",
   "id": "5c293eab",
   "metadata": {},
   "source": [
    "#### FFD, m = 100"
   ]
  },
  {
   "cell_type": "code",
   "execution_count": 65,
   "id": "466dfec6",
   "metadata": {},
   "outputs": [
    {
     "name": "stdout",
     "output_type": "stream",
     "text": [
      "Discretization time, FFD, m =  100 : 0.016482114791870117\n"
     ]
    }
   ],
   "source": [
    "# Perform discretization\n",
    "m = 100\n",
    "start = time.time() # Starting time\n",
    "data_ffd4 = ffd_disc(data, m)\n",
    "end = time.time()\n",
    "ffd_t = end - start\n",
    "print(\"Discretization time, FFD, m = \", m, \":\", ffd_t) # Total time execution"
   ]
  },
  {
   "cell_type": "code",
   "execution_count": 66,
   "id": "aa54a520",
   "metadata": {},
   "outputs": [
    {
     "name": "stdout",
     "output_type": "stream",
     "text": [
      "<class 'pandas.core.frame.DataFrame'>\n",
      "RangeIndex: 150 entries, 0 to 149\n",
      "Data columns (total 5 columns):\n",
      " #   Column   Non-Null Count  Dtype\n",
      "---  ------   --------------  -----\n",
      " 0   slength  150 non-null    int64\n",
      " 1   swidth   150 non-null    int64\n",
      " 2   plength  150 non-null    int64\n",
      " 3   pwidth   150 non-null    int64\n",
      " 4   label    150 non-null    int64\n",
      "dtypes: int64(5)\n",
      "memory usage: 6.0 KB\n",
      "slength\n",
      "slength\n",
      "0    80\n",
      "1    70\n",
      "Name: slength, dtype: int64\n",
      "swidth\n",
      "swidth\n",
      "0    83\n",
      "1    67\n",
      "Name: swidth, dtype: int64\n",
      "plength\n",
      "plength\n",
      "0    75\n",
      "1    75\n",
      "Name: plength, dtype: int64\n",
      "pwidth\n",
      "pwidth\n",
      "0    78\n",
      "1    72\n",
      "Name: pwidth, dtype: int64\n"
     ]
    }
   ],
   "source": [
    "## OUTPUT\n",
    "data_ffd4.info()\n",
    "\n",
    "## OUTPUT: Check number of instance in each interval\n",
    "for col in num_col:\n",
    "    print(col)\n",
    "    print(data_ffd4.groupby(col)[col].count())"
   ]
  },
  {
   "cell_type": "markdown",
   "id": "6bd34971",
   "metadata": {},
   "source": [
    "### Export discretized datasets"
   ]
  },
  {
   "cell_type": "code",
   "execution_count": 67,
   "id": "86a46ff5",
   "metadata": {},
   "outputs": [],
   "source": [
    "# EWD datasets:\n",
    "data_ewd1.to_csv('iris_ewd1.csv', index = False) # k=4\n",
    "data_ewd2.to_csv('iris_ewd2.csv', index = False) # k=7\n",
    "data_ewd3.to_csv('iris_ewd3.csv', index = False) # k=10"
   ]
  },
  {
   "cell_type": "code",
   "execution_count": 68,
   "id": "2fd0be74",
   "metadata": {},
   "outputs": [],
   "source": [
    "# EFD datasets:\n",
    "data_efd1.to_csv('iris_efd1.csv', index = False) # k=4\n",
    "data_efd2.to_csv('iris_efd2.csv', index = False) # k=7\n",
    "data_efd3.to_csv('iris_efd3.csv', index = False) # k=10\n"
   ]
  },
  {
   "cell_type": "code",
   "execution_count": 69,
   "id": "44d776d1",
   "metadata": {},
   "outputs": [],
   "source": [
    "# FFD datasets:\n",
    "data_ffd1.to_csv('iris_ffd1.csv', index = False) # m=10\n",
    "data_ffd2.to_csv('iris_ffd2.csv', index = False) # m=30\n",
    "data_ffd3.to_csv('iris_ffd3.csv', index = False) # m=60\n",
    "data_ffd4.to_csv('iris_ffd4.csv', index = False) # m=100"
   ]
  },
  {
   "cell_type": "code",
   "execution_count": null,
   "id": "c2db768a",
   "metadata": {},
   "outputs": [],
   "source": []
  },
  {
   "cell_type": "code",
   "execution_count": null,
   "id": "35800d4e",
   "metadata": {},
   "outputs": [],
   "source": []
  }
 ],
 "metadata": {
  "kernelspec": {
   "display_name": "Python 3",
   "language": "python",
   "name": "python3"
  },
  "language_info": {
   "codemirror_mode": {
    "name": "ipython",
    "version": 3
   },
   "file_extension": ".py",
   "mimetype": "text/x-python",
   "name": "python",
   "nbconvert_exporter": "python",
   "pygments_lexer": "ipython3",
   "version": "3.8.8"
  }
 },
 "nbformat": 4,
 "nbformat_minor": 5
}
